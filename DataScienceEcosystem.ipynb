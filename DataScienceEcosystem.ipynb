{
 "cells": [
  {
   "cell_type": "markdown",
   "id": "90fc06b2-1025-45db-9c0c-2197e50d1754",
   "metadata": {},
   "source": [
    "# Data Science Tools and Ecosystem"
   ]
  },
  {
   "cell_type": "markdown",
   "id": "ae752e64-1343-478c-bb8a-dd52c2db466d",
   "metadata": {},
   "source": [
    "In this notebook, Data Science Tools and Ecosystem are summarized."
   ]
  },
  {
   "cell_type": "markdown",
   "id": "a55dd4a3-b8f1-4524-abd4-0aab3fdba981",
   "metadata": {},
   "source": [
    "**Objectives**\n",
    "- List programming languages in Data Science\n",
    "- List libraries and packages in data science\n",
    "- List open source tools available for data science\n",
    "- List integrated development environments in data science\n",
    "- Get hands-on exposure on the basic feel of development environments in data science"
   ]
  },
  {
   "cell_type": "markdown",
   "id": "71cd829d-4091-4e3e-a2df-d5c37360ab8f",
   "metadata": {},
   "source": [
    "Some of the popular languages that Data Scientists use are:\n",
    "1. Python\n",
    "2. SQL\n",
    "3. R\n",
    "4. Julia\n",
    "5. Scala"
   ]
  },
  {
   "cell_type": "markdown",
   "id": "afcc8810-3bbb-4b7b-a760-266324af9c3b",
   "metadata": {},
   "source": [
    "Some of the commonly used libraries used by Data Scientists include:\n",
    "1. Matplotlib\n",
    "2. NumPy\n",
    "3. Pandas\n",
    "4. TensorFlow\n",
    "5. Scikit-learn"
   ]
  },
  {
   "cell_type": "markdown",
   "id": "c02e2958-6cc2-4cff-ad65-0a7431b623c9",
   "metadata": {},
   "source": [
    "|Data Science Tools|\n",
    "|------------------|\n",
    "|Jupyter Notebook|\n",
    "|RStudio|\n",
    "|Spyder|\n",
    "|Visual Studio Code|"
   ]
  },
  {
   "cell_type": "markdown",
   "id": "ea3afcbd-d448-499a-b916-aa5c85913cbd",
   "metadata": {},
   "source": [
    "### Below are a few examples of evaluating arithmetic expressions in Python"
   ]
  },
  {
   "cell_type": "code",
   "execution_count": 2,
   "id": "55f922f1-1d90-454d-8761-654fffd32940",
   "metadata": {
    "tags": []
   },
   "outputs": [
    {
     "data": {
      "text/plain": [
       "17"
      ]
     },
     "execution_count": 2,
     "metadata": {},
     "output_type": "execute_result"
    }
   ],
   "source": [
    "# This a simple arithmetic expression to mutiply then add integers\n",
    "(3*4)+5"
   ]
  },
  {
   "cell_type": "code",
   "execution_count": 5,
   "id": "d79cac21-8775-4070-a34f-f8c1b817c891",
   "metadata": {
    "tags": []
   },
   "outputs": [
    {
     "name": "stdout",
     "output_type": "stream",
     "text": [
      "3 h\n"
     ]
    }
   ],
   "source": [
    "# This will convert 200 minutes to hours by diving by 60\n",
    "\n",
    "print(200//60,\"h\")"
   ]
  },
  {
   "cell_type": "markdown",
   "id": "d6fda446-fc27-4d4c-b5fb-ef6d8a69a970",
   "metadata": {},
   "source": [
    "## Author\n",
    "Caspal Okeyo Okelo"
   ]
  },
  {
   "cell_type": "code",
   "execution_count": null,
   "id": "cd6ee004-e83f-46fb-835e-f81eda8a5a89",
   "metadata": {},
   "outputs": [],
   "source": []
  }
 ],
 "metadata": {
  "kernelspec": {
   "display_name": "Python",
   "language": "python",
   "name": "conda-env-python-py"
  },
  "language_info": {
   "codemirror_mode": {
    "name": "ipython",
    "version": 3
   },
   "file_extension": ".py",
   "mimetype": "text/x-python",
   "name": "python",
   "nbconvert_exporter": "python",
   "pygments_lexer": "ipython3",
   "version": "3.7.12"
  }
 },
 "nbformat": 4,
 "nbformat_minor": 5
}
